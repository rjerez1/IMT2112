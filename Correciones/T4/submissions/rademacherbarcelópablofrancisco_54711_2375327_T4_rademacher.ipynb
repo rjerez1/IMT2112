{
  "nbformat": 4,
  "nbformat_minor": 0,
  "metadata": {
    "colab": {
      "name": "T4_IMT2112.ipynb",
      "provenance": []
    },
    "kernelspec": {
      "name": "python3",
      "display_name": "Python 3"
    },
    "accelerator": "GPU"
  },
  "cells": [
    {
      "cell_type": "code",
      "metadata": {
        "colab": {
          "base_uri": "https://localhost:8080/"
        },
        "id": "WzLhrVjg1NDk",
        "outputId": "5d5d0f83-fa99-4c2c-b8ed-a60e658d2aaf"
      },
      "source": [
        "!pip install pyopencl"
      ],
      "execution_count": null,
      "outputs": [
        {
          "output_type": "stream",
          "text": [
            "Requirement already satisfied: pyopencl in /usr/local/lib/python3.6/dist-packages (2020.3.1)\n",
            "Requirement already satisfied: numpy in /usr/local/lib/python3.6/dist-packages (from pyopencl) (1.18.5)\n",
            "Requirement already satisfied: appdirs>=1.4.0 in /usr/local/lib/python3.6/dist-packages (from pyopencl) (1.4.4)\n",
            "Requirement already satisfied: pytools>=2017.6 in /usr/local/lib/python3.6/dist-packages (from pyopencl) (2020.4.3)\n",
            "Requirement already satisfied: decorator>=3.2.0 in /usr/local/lib/python3.6/dist-packages (from pyopencl) (4.4.2)\n",
            "Requirement already satisfied: six>=1.8.0 in /usr/local/lib/python3.6/dist-packages (from pytools>=2017.6->pyopencl) (1.15.0)\n",
            "Requirement already satisfied: dataclasses>=0.7; python_version <= \"3.6\" in /usr/local/lib/python3.6/dist-packages (from pytools>=2017.6->pyopencl) (0.8)\n"
          ],
          "name": "stdout"
        }
      ]
    },
    {
      "cell_type": "code",
      "metadata": {
        "id": "c4ff-NbE1qHc"
      },
      "source": [
        "import pyopencl as cl\n",
        "import time as tm\n",
        "import numpy as np"
      ],
      "execution_count": null,
      "outputs": []
    },
    {
      "cell_type": "markdown",
      "metadata": {
        "id": "KgGCK3yq9SL0"
      },
      "source": [
        "Veamos las plataformas a usar:"
      ]
    },
    {
      "cell_type": "code",
      "metadata": {
        "colab": {
          "base_uri": "https://localhost:8080/"
        },
        "id": "UjtCIdx14yNl",
        "outputId": "cf25d8c9-a5a5-4d4e-d242-4c6c1510113a"
      },
      "source": [
        "plataforms = cl.get_platforms()\n",
        "print(\"Plataformas: \", plataforms)\n",
        "\n",
        "gpu_devices = plataforms[0].get_devices(cl.device_type.GPU)\n",
        "print(\"Devices: \", gpu_devices)"
      ],
      "execution_count": null,
      "outputs": [
        {
          "output_type": "stream",
          "text": [
            "Plataformas:  [<pyopencl.Platform 'NVIDIA CUDA' at 0x3302760>]\n",
            "Devices:  [<pyopencl.Device 'Tesla T4' on 'NVIDIA CUDA' at 0x3302800>]\n"
          ],
          "name": "stdout"
        }
      ]
    },
    {
      "cell_type": "markdown",
      "metadata": {
        "id": "w8Htif799GvJ"
      },
      "source": [
        "Creamos las partes real e imaginarias de los n numeros a probar, en el intervalo $(-2,2)$ tanto para las partes real e imaginarias. Esto porsue se puede demostrar que un numero complejo de módulo mayor a 2 no puede estar dentro del set:"
      ]
    },
    {
      "cell_type": "code",
      "metadata": {
        "id": "zNtA1Eck6g3f"
      },
      "source": [
        "np.random.seed(0)\n",
        "n = 200000\n",
        "real_h = np.random.rand(n).astype(np.float32)*4 - 2\n",
        "imaginaria_h = np.random.rand(n).astype(np.float32)*4 - 2"
      ],
      "execution_count": null,
      "outputs": []
    },
    {
      "cell_type": "markdown",
      "metadata": {
        "id": "FBHg-Zed_QrQ"
      },
      "source": [
        "Creamos los buffer:"
      ]
    },
    {
      "cell_type": "code",
      "metadata": {
        "id": "zi9OiTwr-MwZ"
      },
      "source": [
        "\n",
        "context = cl.Context(gpu_devices)\n",
        "queue = cl.CommandQueue(context)\n",
        "\n",
        "real_d = cl.Buffer(context, cl.mem_flags.READ_ONLY | cl.mem_flags.COPY_HOST_PTR, hostbuf=real_h)\n",
        "imaginaria_d = cl.Buffer(context, cl.mem_flags.READ_ONLY | cl.mem_flags.COPY_HOST_PTR, hostbuf=imaginaria_h)\n",
        "estan_d = cl.Buffer(context, cl.mem_flags.WRITE_ONLY, real_h.nbytes)"
      ],
      "execution_count": null,
      "outputs": []
    },
    {
      "cell_type": "markdown",
      "metadata": {
        "id": "K_R2WQyfB0ve"
      },
      "source": [
        "Creamos el programa que comprueba si cada punto esta o no en el set:"
      ]
    },
    {
      "cell_type": "code",
      "metadata": {
        "id": "V2v510G0B-rA"
      },
      "source": [
        "code = \"\"\"\n",
        "__kernel void check(\n",
        "  __global float* real_d,\n",
        "  __global float* imaginaria_d,\n",
        "  __global float* estan_d)\n",
        "  {\n",
        "    int global_id = get_global_id(0);\n",
        "    int local_id = get_local_id(0);\n",
        "    int group_id = get_group_id(0); \n",
        "    int local_size = get_local_size(0);\n",
        "\n",
        "    float a = real_d[global_id];\n",
        "    float b = imaginaria_d[global_id];\n",
        "    float a_ = real_d[global_id];\n",
        "    float b_ = imaginaria_d[global_id];\n",
        "    float temp;\n",
        "    int iter = 0;\n",
        "    // mientras el modulo sea menor a 2 (o su cuadrado menor a 4)\n",
        "    while (iter<10000000 && (a*a + b*b)<4)\n",
        "    {\n",
        "      temp = a;\n",
        "      a = a*a - b*b;\n",
        "      b = 2*temp*b;\n",
        "      a += a_;\n",
        "      b += b_;\n",
        "      iter++;\n",
        "    }\n",
        "    estan_d[global_id] = iter;\n",
        "  }\n",
        "\"\"\""
      ],
      "execution_count": null,
      "outputs": []
    },
    {
      "cell_type": "code",
      "metadata": {
        "id": "3tY7dWoZFKav"
      },
      "source": [
        "program = cl.Program(context, code).build()"
      ],
      "execution_count": null,
      "outputs": []
    },
    {
      "cell_type": "markdown",
      "metadata": {
        "id": "nswHvdTASRLU"
      },
      "source": [
        "Ejecutamos el programa en la gpu:"
      ]
    },
    {
      "cell_type": "code",
      "metadata": {
        "id": "GrjXnTxiNnqg",
        "colab": {
          "base_uri": "https://localhost:8080/"
        },
        "outputId": "8cd54192-3d79-4805-80cf-b02f9f474e2c"
      },
      "source": [
        "program.check(queue, real_h.shape, None, real_d, imaginaria_d, estan_d)\n",
        "estan_h = np.empty_like(real_h)\n",
        "cl.enqueue_copy(queue, estan_h, estan_d)"
      ],
      "execution_count": null,
      "outputs": [
        {
          "output_type": "execute_result",
          "data": {
            "text/plain": [
              "<pyopencl._cl.NannyEvent at 0x7fb4d614a728>"
            ]
          },
          "metadata": {
            "tags": []
          },
          "execution_count": 28
        }
      ]
    },
    {
      "cell_type": "markdown",
      "metadata": {
        "id": "6MAL2IiBGG5U"
      },
      "source": [
        "Calculemos cuales puntos estan dentro, y dividamos eso por el total."
      ]
    },
    {
      "cell_type": "code",
      "metadata": {
        "id": "xe9RBhG5FPzZ",
        "colab": {
          "base_uri": "https://localhost:8080/"
        },
        "outputId": "482e8dd7-d939-42dc-f970-4ecfab69b582"
      },
      "source": [
        "puntos_dentro = len(list(filter(lambda x: x == 10000000, estan_h)))\n",
        "\n",
        "area = (puntos_dentro * 16) / n\n",
        "print(f\"El area calculada es de {area:.10f}.\") "
      ],
      "execution_count": null,
      "outputs": [
        {
          "output_type": "stream",
          "text": [
            "El area calculada es de 1.5081600000.\n"
          ],
          "name": "stdout"
        }
      ]
    },
    {
      "cell_type": "markdown",
      "metadata": {
        "id": "KJNUY-uakTUo"
      },
      "source": [
        "Veamos cual es el error obtenido:"
      ]
    },
    {
      "cell_type": "code",
      "metadata": {
        "colab": {
          "base_uri": "https://localhost:8080/"
        },
        "id": "wiU37nBVkXwp",
        "outputId": "f786ba54-b196-43d6-f7dc-2f5e68d18070"
      },
      "source": [
        "real = 1.50659177\n",
        "error = abs(real - area) / real\n",
        "print(f\"Tenemos un error del {error*100:.10f}%.\")\n",
        " "
      ],
      "execution_count": null,
      "outputs": [
        {
          "output_type": "stream",
          "text": [
            "Tenemos un error del 0.1040912363%.\n"
          ],
          "name": "stdout"
        }
      ]
    },
    {
      "cell_type": "code",
      "metadata": {
        "id": "YsXwoffUlnfS"
      },
      "source": [
        ""
      ],
      "execution_count": null,
      "outputs": []
    }
  ]
}